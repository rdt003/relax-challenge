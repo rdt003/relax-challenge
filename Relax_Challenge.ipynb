{
 "cells": [
  {
   "cell_type": "code",
   "execution_count": 201,
   "metadata": {},
   "outputs": [],
   "source": [
    "import pandas as pd\n",
    "import seaborn as sns\n",
    "import matplotlib.pyplot as plt\n",
    "%matplotlib inline\n",
    "from sklearn.model_selection import train_test_split\n",
    "from sklearn.ensemble import RandomForestClassifier\n",
    "from sklearn.linear_model import LogisticRegression\n",
    "from sklearn.preprocessing import StandardScaler\n",
    "from sklearn.model_selection import GridSearchCV\n",
    "from sklearn.metrics import confusion_matrix\n",
    "from sklearn.metrics import roc_auc_score\n",
    "from sklearn.metrics import roc_curve"
   ]
  },
  {
   "cell_type": "markdown",
   "metadata": {},
   "source": [
    "# <div class=\"alert alert-warning\"> Exploratory Data Analysis and Data Wrangling </div>"
   ]
  },
  {
   "cell_type": "code",
   "execution_count": 202,
   "metadata": {},
   "outputs": [
    {
     "data": {
      "text/html": [
       "<div>\n",
       "<style scoped>\n",
       "    .dataframe tbody tr th:only-of-type {\n",
       "        vertical-align: middle;\n",
       "    }\n",
       "\n",
       "    .dataframe tbody tr th {\n",
       "        vertical-align: top;\n",
       "    }\n",
       "\n",
       "    .dataframe thead th {\n",
       "        text-align: right;\n",
       "    }\n",
       "</style>\n",
       "<table border=\"1\" class=\"dataframe\">\n",
       "  <thead>\n",
       "    <tr style=\"text-align: right;\">\n",
       "      <th></th>\n",
       "      <th>object_id</th>\n",
       "      <th>creation_time</th>\n",
       "      <th>name</th>\n",
       "      <th>email</th>\n",
       "      <th>creation_source</th>\n",
       "      <th>last_session_creation_time</th>\n",
       "      <th>opted_in_to_mailing_list</th>\n",
       "      <th>enabled_for_marketing_drip</th>\n",
       "      <th>org_id</th>\n",
       "      <th>invited_by_user_id</th>\n",
       "    </tr>\n",
       "  </thead>\n",
       "  <tbody>\n",
       "    <tr>\n",
       "      <th>0</th>\n",
       "      <td>1</td>\n",
       "      <td>2014-04-22 03:53:30</td>\n",
       "      <td>Clausen August</td>\n",
       "      <td>AugustCClausen@yahoo.com</td>\n",
       "      <td>GUEST_INVITE</td>\n",
       "      <td>1.398139e+09</td>\n",
       "      <td>1</td>\n",
       "      <td>0</td>\n",
       "      <td>11</td>\n",
       "      <td>10803.0</td>\n",
       "    </tr>\n",
       "    <tr>\n",
       "      <th>1</th>\n",
       "      <td>2</td>\n",
       "      <td>2013-11-15 03:45:04</td>\n",
       "      <td>Poole Matthew</td>\n",
       "      <td>MatthewPoole@gustr.com</td>\n",
       "      <td>ORG_INVITE</td>\n",
       "      <td>1.396238e+09</td>\n",
       "      <td>0</td>\n",
       "      <td>0</td>\n",
       "      <td>1</td>\n",
       "      <td>316.0</td>\n",
       "    </tr>\n",
       "    <tr>\n",
       "      <th>2</th>\n",
       "      <td>3</td>\n",
       "      <td>2013-03-19 23:14:52</td>\n",
       "      <td>Bottrill Mitchell</td>\n",
       "      <td>MitchellBottrill@gustr.com</td>\n",
       "      <td>ORG_INVITE</td>\n",
       "      <td>1.363735e+09</td>\n",
       "      <td>0</td>\n",
       "      <td>0</td>\n",
       "      <td>94</td>\n",
       "      <td>1525.0</td>\n",
       "    </tr>\n",
       "    <tr>\n",
       "      <th>3</th>\n",
       "      <td>4</td>\n",
       "      <td>2013-05-21 08:09:28</td>\n",
       "      <td>Clausen Nicklas</td>\n",
       "      <td>NicklasSClausen@yahoo.com</td>\n",
       "      <td>GUEST_INVITE</td>\n",
       "      <td>1.369210e+09</td>\n",
       "      <td>0</td>\n",
       "      <td>0</td>\n",
       "      <td>1</td>\n",
       "      <td>5151.0</td>\n",
       "    </tr>\n",
       "    <tr>\n",
       "      <th>4</th>\n",
       "      <td>5</td>\n",
       "      <td>2013-01-17 10:14:20</td>\n",
       "      <td>Raw Grace</td>\n",
       "      <td>GraceRaw@yahoo.com</td>\n",
       "      <td>GUEST_INVITE</td>\n",
       "      <td>1.358850e+09</td>\n",
       "      <td>0</td>\n",
       "      <td>0</td>\n",
       "      <td>193</td>\n",
       "      <td>5240.0</td>\n",
       "    </tr>\n",
       "  </tbody>\n",
       "</table>\n",
       "</div>"
      ],
      "text/plain": [
       "   object_id        creation_time               name  \\\n",
       "0          1  2014-04-22 03:53:30     Clausen August   \n",
       "1          2  2013-11-15 03:45:04      Poole Matthew   \n",
       "2          3  2013-03-19 23:14:52  Bottrill Mitchell   \n",
       "3          4  2013-05-21 08:09:28    Clausen Nicklas   \n",
       "4          5  2013-01-17 10:14:20          Raw Grace   \n",
       "\n",
       "                        email creation_source  last_session_creation_time  \\\n",
       "0    AugustCClausen@yahoo.com    GUEST_INVITE                1.398139e+09   \n",
       "1      MatthewPoole@gustr.com      ORG_INVITE                1.396238e+09   \n",
       "2  MitchellBottrill@gustr.com      ORG_INVITE                1.363735e+09   \n",
       "3   NicklasSClausen@yahoo.com    GUEST_INVITE                1.369210e+09   \n",
       "4          GraceRaw@yahoo.com    GUEST_INVITE                1.358850e+09   \n",
       "\n",
       "   opted_in_to_mailing_list  enabled_for_marketing_drip  org_id  \\\n",
       "0                         1                           0      11   \n",
       "1                         0                           0       1   \n",
       "2                         0                           0      94   \n",
       "3                         0                           0       1   \n",
       "4                         0                           0     193   \n",
       "\n",
       "   invited_by_user_id  \n",
       "0             10803.0  \n",
       "1               316.0  \n",
       "2              1525.0  \n",
       "3              5151.0  \n",
       "4              5240.0  "
      ]
     },
     "execution_count": 202,
     "metadata": {},
     "output_type": "execute_result"
    }
   ],
   "source": [
    "# Load in user data\n",
    "users = pd.read_csv('takehome_users.csv', encoding='ISO-8859-1')\n",
    "users.head()"
   ]
  },
  {
   "cell_type": "code",
   "execution_count": 203,
   "metadata": {},
   "outputs": [
    {
     "data": {
      "text/html": [
       "<div>\n",
       "<style scoped>\n",
       "    .dataframe tbody tr th:only-of-type {\n",
       "        vertical-align: middle;\n",
       "    }\n",
       "\n",
       "    .dataframe tbody tr th {\n",
       "        vertical-align: top;\n",
       "    }\n",
       "\n",
       "    .dataframe thead th {\n",
       "        text-align: right;\n",
       "    }\n",
       "</style>\n",
       "<table border=\"1\" class=\"dataframe\">\n",
       "  <thead>\n",
       "    <tr style=\"text-align: right;\">\n",
       "      <th></th>\n",
       "      <th>time_stamp</th>\n",
       "      <th>user_id</th>\n",
       "      <th>visited</th>\n",
       "    </tr>\n",
       "  </thead>\n",
       "  <tbody>\n",
       "    <tr>\n",
       "      <th>0</th>\n",
       "      <td>2014-04-22 03:53:30</td>\n",
       "      <td>1</td>\n",
       "      <td>1</td>\n",
       "    </tr>\n",
       "    <tr>\n",
       "      <th>1</th>\n",
       "      <td>2013-11-15 03:45:04</td>\n",
       "      <td>2</td>\n",
       "      <td>1</td>\n",
       "    </tr>\n",
       "    <tr>\n",
       "      <th>2</th>\n",
       "      <td>2013-11-29 03:45:04</td>\n",
       "      <td>2</td>\n",
       "      <td>1</td>\n",
       "    </tr>\n",
       "    <tr>\n",
       "      <th>3</th>\n",
       "      <td>2013-12-09 03:45:04</td>\n",
       "      <td>2</td>\n",
       "      <td>1</td>\n",
       "    </tr>\n",
       "    <tr>\n",
       "      <th>4</th>\n",
       "      <td>2013-12-25 03:45:04</td>\n",
       "      <td>2</td>\n",
       "      <td>1</td>\n",
       "    </tr>\n",
       "  </tbody>\n",
       "</table>\n",
       "</div>"
      ],
      "text/plain": [
       "           time_stamp  user_id  visited\n",
       "0 2014-04-22 03:53:30        1        1\n",
       "1 2013-11-15 03:45:04        2        1\n",
       "2 2013-11-29 03:45:04        2        1\n",
       "3 2013-12-09 03:45:04        2        1\n",
       "4 2013-12-25 03:45:04        2        1"
      ]
     },
     "execution_count": 203,
     "metadata": {},
     "output_type": "execute_result"
    }
   ],
   "source": [
    "# Load in user_engagement data\n",
    "user_engagement = pd.read_csv('takehome_user_engagement.csv', encoding='ISO-8859-1', parse_dates=['time_stamp'])\n",
    "user_engagement.head()"
   ]
  },
  {
   "cell_type": "markdown",
   "metadata": {},
   "source": [
    "## Clean Data"
   ]
  },
  {
   "cell_type": "code",
   "execution_count": 204,
   "metadata": {},
   "outputs": [
    {
     "name": "stdout",
     "output_type": "stream",
     "text": [
      "Null Values (users):\n",
      "object_id                     False\n",
      "creation_time                 False\n",
      "name                          False\n",
      "email                         False\n",
      "creation_source               False\n",
      "last_session_creation_time     True\n",
      "opted_in_to_mailing_list      False\n",
      "enabled_for_marketing_drip    False\n",
      "org_id                        False\n",
      "invited_by_user_id             True\n",
      "dtype: bool\n",
      "\n",
      "\n",
      "Null Values (user_engagement):\n",
      "time_stamp    False\n",
      "user_id       False\n",
      "visited       False\n",
      "dtype: bool\n"
     ]
    }
   ],
   "source": [
    "# Check for null values for users dataset\n",
    "print('Null Values (users):')\n",
    "print(users.isnull().any())\n",
    "\n",
    "# Print newline\n",
    "print('\\n')\n",
    "\n",
    "# Check for null values for user_engagement dataset\n",
    "print('Null Values (user_engagement):')\n",
    "print(user_engagement.isnull().any())"
   ]
  },
  {
   "cell_type": "code",
   "execution_count": 205,
   "metadata": {},
   "outputs": [
    {
     "data": {
      "text/plain": [
       "object_id                     False\n",
       "creation_time                 False\n",
       "name                          False\n",
       "email                         False\n",
       "creation_source               False\n",
       "last_session_creation_time    False\n",
       "opted_in_to_mailing_list      False\n",
       "enabled_for_marketing_drip    False\n",
       "org_id                        False\n",
       "invited_by_user_id            False\n",
       "dtype: bool"
      ]
     },
     "execution_count": 205,
     "metadata": {},
     "output_type": "execute_result"
    }
   ],
   "source": [
    "# Fill null values of users dataset with 0's\n",
    "users = users.fillna(0)\n",
    "users.isnull().any()"
   ]
  },
  {
   "cell_type": "markdown",
   "metadata": {},
   "source": [
    "## Transform Data"
   ]
  },
  {
   "cell_type": "markdown",
   "metadata": {},
   "source": [
    "#### 1.  Adopted Users (Target Value)"
   ]
  },
  {
   "cell_type": "code",
   "execution_count": 230,
   "metadata": {},
   "outputs": [],
   "source": [
    "# Create function to calculate visits over 7-day rolling periods\n",
    "def rolling_7D(grp):\n",
    "    return grp.rolling('7D', on='time_stamp')['visited'].count()\n",
    "\n",
    "# Only consider the first visit of each day\n",
    "user_engagement = user_engagement.groupby(['user_id', pd.Grouper(key='time_stamp', freq='D')]).first().reset_index()\n",
    "# Calculate 7-day rolling periods\n",
    "user_engagement['rolling_visits_7d'] = user_engagement.groupby('user_id', as_index=False, group_keys=False).apply(rolling_7D)\n",
    "\n",
    "# For each 'user_id', compile all 7-day rolling periods into a single list\n",
    "adopted_users = user_engagement.groupby('user_id').agg(lambda x: x.tolist()).drop(['time_stamp','visited'], axis=1)\n",
    "# Find the most number of visits of all 7-day rolling periods\n",
    "adopted_users['rolling_visits_7d'] = adopted_users['rolling_visits_7d'].apply(lambda x: max(x))\n",
    "\n",
    "# Identify 'adopted_users' \n",
    "adopted_users['adopted_user'] = adopted_users['rolling_visits_7d'].apply(lambda x: x >= 3)\n",
    "\n",
    "# Reset index\n",
    "adopted_users.reset_index(inplace=True)\n",
    "# Drop 'rolling_visits_7d' column\n",
    "adopted_users = adopted_users[['user_id','adopted_user']]"
   ]
  },
  {
   "cell_type": "code",
   "execution_count": 231,
   "metadata": {},
   "outputs": [
    {
     "name": "stdout",
     "output_type": "stream",
     "text": [
      "Adoption Rate: 0.18157089425365522\n",
      "   Churn rate: 0.8184291057463448\n"
     ]
    }
   ],
   "source": [
    "# Print adoption and churn rates\n",
    "adoption_rate = adopted_users['adopted_user'].mean()\n",
    "churn_rate = 1 - adoption_rate\n",
    "print('Adoption Rate: {}'.format(adoption_rate))\n",
    "print('   Churn rate: {}'.format(churn_rate))"
   ]
  },
  {
   "cell_type": "code",
   "execution_count": 226,
   "metadata": {},
   "outputs": [
    {
     "name": "stdout",
     "output_type": "stream",
     "text": [
      "Same Number of Users:\n",
      " False\n"
     ]
    }
   ],
   "source": [
    "# Check if 'adopted_users' dataframe and 'users' dataframe have the same number of users\n",
    "same_number_users = len(adopted_users.user_id.unique()) == len(users.object_id.unique())\n",
    "print('Same Number of Users:\\n {}'.format(same_number_users))"
   ]
  },
  {
   "cell_type": "markdown",
   "metadata": {},
   "source": [
    "#### 2. Merge both datasets using user ids"
   ]
  },
  {
   "cell_type": "markdown",
   "metadata": {},
   "source": [
    "> Because the two datasets don't have an equal amount of users, the merged dataset will have some null values in the 'adopted_user' column.\n",
    "<br> \n",
    "I will correct this by performing an inner merge. This will essentially drop rows with users who did not appear in the user_engagement dataset.\n",
    "</br>\n",
    "<br>\n",
    "I am doing this because there is no way of verifying whether they are adopted users, thus they do not aid in building the predictive model. \n",
    "</br>"
   ]
  },
  {
   "cell_type": "code",
   "execution_count": 207,
   "metadata": {},
   "outputs": [
    {
     "name": "stdout",
     "output_type": "stream",
     "text": [
      "Null Values:\n",
      "object_id                     False\n",
      "creation_time                 False\n",
      "name                          False\n",
      "email                         False\n",
      "creation_source               False\n",
      "last_session_creation_time    False\n",
      "opted_in_to_mailing_list      False\n",
      "enabled_for_marketing_drip    False\n",
      "org_id                        False\n",
      "invited_by_user_id            False\n",
      "adopted_user                  False\n",
      "dtype: bool\n"
     ]
    },
    {
     "data": {
      "text/html": [
       "<div>\n",
       "<style scoped>\n",
       "    .dataframe tbody tr th:only-of-type {\n",
       "        vertical-align: middle;\n",
       "    }\n",
       "\n",
       "    .dataframe tbody tr th {\n",
       "        vertical-align: top;\n",
       "    }\n",
       "\n",
       "    .dataframe thead th {\n",
       "        text-align: right;\n",
       "    }\n",
       "</style>\n",
       "<table border=\"1\" class=\"dataframe\">\n",
       "  <thead>\n",
       "    <tr style=\"text-align: right;\">\n",
       "      <th></th>\n",
       "      <th>object_id</th>\n",
       "      <th>creation_time</th>\n",
       "      <th>name</th>\n",
       "      <th>email</th>\n",
       "      <th>creation_source</th>\n",
       "      <th>last_session_creation_time</th>\n",
       "      <th>opted_in_to_mailing_list</th>\n",
       "      <th>enabled_for_marketing_drip</th>\n",
       "      <th>org_id</th>\n",
       "      <th>invited_by_user_id</th>\n",
       "      <th>adopted_user</th>\n",
       "    </tr>\n",
       "  </thead>\n",
       "  <tbody>\n",
       "    <tr>\n",
       "      <th>0</th>\n",
       "      <td>1</td>\n",
       "      <td>2014-04-22 03:53:30</td>\n",
       "      <td>Clausen August</td>\n",
       "      <td>AugustCClausen@yahoo.com</td>\n",
       "      <td>GUEST_INVITE</td>\n",
       "      <td>1.398139e+09</td>\n",
       "      <td>1</td>\n",
       "      <td>0</td>\n",
       "      <td>11</td>\n",
       "      <td>10803.0</td>\n",
       "      <td>False</td>\n",
       "    </tr>\n",
       "    <tr>\n",
       "      <th>1</th>\n",
       "      <td>2</td>\n",
       "      <td>2013-11-15 03:45:04</td>\n",
       "      <td>Poole Matthew</td>\n",
       "      <td>MatthewPoole@gustr.com</td>\n",
       "      <td>ORG_INVITE</td>\n",
       "      <td>1.396238e+09</td>\n",
       "      <td>0</td>\n",
       "      <td>0</td>\n",
       "      <td>1</td>\n",
       "      <td>316.0</td>\n",
       "      <td>True</td>\n",
       "    </tr>\n",
       "    <tr>\n",
       "      <th>2</th>\n",
       "      <td>3</td>\n",
       "      <td>2013-03-19 23:14:52</td>\n",
       "      <td>Bottrill Mitchell</td>\n",
       "      <td>MitchellBottrill@gustr.com</td>\n",
       "      <td>ORG_INVITE</td>\n",
       "      <td>1.363735e+09</td>\n",
       "      <td>0</td>\n",
       "      <td>0</td>\n",
       "      <td>94</td>\n",
       "      <td>1525.0</td>\n",
       "      <td>False</td>\n",
       "    </tr>\n",
       "    <tr>\n",
       "      <th>3</th>\n",
       "      <td>4</td>\n",
       "      <td>2013-05-21 08:09:28</td>\n",
       "      <td>Clausen Nicklas</td>\n",
       "      <td>NicklasSClausen@yahoo.com</td>\n",
       "      <td>GUEST_INVITE</td>\n",
       "      <td>1.369210e+09</td>\n",
       "      <td>0</td>\n",
       "      <td>0</td>\n",
       "      <td>1</td>\n",
       "      <td>5151.0</td>\n",
       "      <td>False</td>\n",
       "    </tr>\n",
       "    <tr>\n",
       "      <th>4</th>\n",
       "      <td>5</td>\n",
       "      <td>2013-01-17 10:14:20</td>\n",
       "      <td>Raw Grace</td>\n",
       "      <td>GraceRaw@yahoo.com</td>\n",
       "      <td>GUEST_INVITE</td>\n",
       "      <td>1.358850e+09</td>\n",
       "      <td>0</td>\n",
       "      <td>0</td>\n",
       "      <td>193</td>\n",
       "      <td>5240.0</td>\n",
       "      <td>False</td>\n",
       "    </tr>\n",
       "  </tbody>\n",
       "</table>\n",
       "</div>"
      ],
      "text/plain": [
       "   object_id        creation_time               name  \\\n",
       "0          1  2014-04-22 03:53:30     Clausen August   \n",
       "1          2  2013-11-15 03:45:04      Poole Matthew   \n",
       "2          3  2013-03-19 23:14:52  Bottrill Mitchell   \n",
       "3          4  2013-05-21 08:09:28    Clausen Nicklas   \n",
       "4          5  2013-01-17 10:14:20          Raw Grace   \n",
       "\n",
       "                        email creation_source  last_session_creation_time  \\\n",
       "0    AugustCClausen@yahoo.com    GUEST_INVITE                1.398139e+09   \n",
       "1      MatthewPoole@gustr.com      ORG_INVITE                1.396238e+09   \n",
       "2  MitchellBottrill@gustr.com      ORG_INVITE                1.363735e+09   \n",
       "3   NicklasSClausen@yahoo.com    GUEST_INVITE                1.369210e+09   \n",
       "4          GraceRaw@yahoo.com    GUEST_INVITE                1.358850e+09   \n",
       "\n",
       "   opted_in_to_mailing_list  enabled_for_marketing_drip  org_id  \\\n",
       "0                         1                           0      11   \n",
       "1                         0                           0       1   \n",
       "2                         0                           0      94   \n",
       "3                         0                           0       1   \n",
       "4                         0                           0     193   \n",
       "\n",
       "   invited_by_user_id  adopted_user  \n",
       "0             10803.0         False  \n",
       "1               316.0          True  \n",
       "2              1525.0         False  \n",
       "3              5151.0         False  \n",
       "4              5240.0         False  "
      ]
     },
     "execution_count": 207,
     "metadata": {},
     "output_type": "execute_result"
    }
   ],
   "source": [
    "# Merge the users data with the adopted users data\n",
    "combined = pd.merge(users, adopted_users, left_on='object_id', right_on='user_id', how='inner')\n",
    "# Drop 'user_id' column\n",
    "combined.drop('user_id', axis=1, inplace=True)\n",
    "\n",
    "# Check for missing values\n",
    "print('Null Values:\\n{}'.format(combined.isnull().any()))\n",
    "\n",
    "combined.head()"
   ]
  },
  {
   "cell_type": "markdown",
   "metadata": {},
   "source": [
    "#### 3. Boolean Columns"
   ]
  },
  {
   "cell_type": "code",
   "execution_count": 208,
   "metadata": {},
   "outputs": [
    {
     "data": {
      "text/html": [
       "<div>\n",
       "<style scoped>\n",
       "    .dataframe tbody tr th:only-of-type {\n",
       "        vertical-align: middle;\n",
       "    }\n",
       "\n",
       "    .dataframe tbody tr th {\n",
       "        vertical-align: top;\n",
       "    }\n",
       "\n",
       "    .dataframe thead th {\n",
       "        text-align: right;\n",
       "    }\n",
       "</style>\n",
       "<table border=\"1\" class=\"dataframe\">\n",
       "  <thead>\n",
       "    <tr style=\"text-align: right;\">\n",
       "      <th></th>\n",
       "      <th>object_id</th>\n",
       "      <th>creation_time</th>\n",
       "      <th>name</th>\n",
       "      <th>email</th>\n",
       "      <th>creation_source</th>\n",
       "      <th>last_session_creation_time</th>\n",
       "      <th>opted_in_to_mailing_list</th>\n",
       "      <th>enabled_for_marketing_drip</th>\n",
       "      <th>org_id</th>\n",
       "      <th>invited_by_user_id</th>\n",
       "      <th>adopted_user</th>\n",
       "      <th>GUEST_INVITE</th>\n",
       "      <th>ORG_INVITE</th>\n",
       "      <th>PERSONAL_PROJECTS</th>\n",
       "      <th>SIGNUP</th>\n",
       "    </tr>\n",
       "  </thead>\n",
       "  <tbody>\n",
       "    <tr>\n",
       "      <th>0</th>\n",
       "      <td>1</td>\n",
       "      <td>2014-04-22 03:53:30</td>\n",
       "      <td>Clausen August</td>\n",
       "      <td>AugustCClausen@yahoo.com</td>\n",
       "      <td>GUEST_INVITE</td>\n",
       "      <td>1.398139e+09</td>\n",
       "      <td>1</td>\n",
       "      <td>0</td>\n",
       "      <td>11</td>\n",
       "      <td>10803.0</td>\n",
       "      <td>0</td>\n",
       "      <td>1</td>\n",
       "      <td>0</td>\n",
       "      <td>0</td>\n",
       "      <td>0</td>\n",
       "    </tr>\n",
       "    <tr>\n",
       "      <th>1</th>\n",
       "      <td>2</td>\n",
       "      <td>2013-11-15 03:45:04</td>\n",
       "      <td>Poole Matthew</td>\n",
       "      <td>MatthewPoole@gustr.com</td>\n",
       "      <td>ORG_INVITE</td>\n",
       "      <td>1.396238e+09</td>\n",
       "      <td>0</td>\n",
       "      <td>0</td>\n",
       "      <td>1</td>\n",
       "      <td>316.0</td>\n",
       "      <td>1</td>\n",
       "      <td>0</td>\n",
       "      <td>1</td>\n",
       "      <td>0</td>\n",
       "      <td>0</td>\n",
       "    </tr>\n",
       "    <tr>\n",
       "      <th>2</th>\n",
       "      <td>3</td>\n",
       "      <td>2013-03-19 23:14:52</td>\n",
       "      <td>Bottrill Mitchell</td>\n",
       "      <td>MitchellBottrill@gustr.com</td>\n",
       "      <td>ORG_INVITE</td>\n",
       "      <td>1.363735e+09</td>\n",
       "      <td>0</td>\n",
       "      <td>0</td>\n",
       "      <td>94</td>\n",
       "      <td>1525.0</td>\n",
       "      <td>0</td>\n",
       "      <td>0</td>\n",
       "      <td>1</td>\n",
       "      <td>0</td>\n",
       "      <td>0</td>\n",
       "    </tr>\n",
       "    <tr>\n",
       "      <th>3</th>\n",
       "      <td>4</td>\n",
       "      <td>2013-05-21 08:09:28</td>\n",
       "      <td>Clausen Nicklas</td>\n",
       "      <td>NicklasSClausen@yahoo.com</td>\n",
       "      <td>GUEST_INVITE</td>\n",
       "      <td>1.369210e+09</td>\n",
       "      <td>0</td>\n",
       "      <td>0</td>\n",
       "      <td>1</td>\n",
       "      <td>5151.0</td>\n",
       "      <td>0</td>\n",
       "      <td>1</td>\n",
       "      <td>0</td>\n",
       "      <td>0</td>\n",
       "      <td>0</td>\n",
       "    </tr>\n",
       "    <tr>\n",
       "      <th>4</th>\n",
       "      <td>5</td>\n",
       "      <td>2013-01-17 10:14:20</td>\n",
       "      <td>Raw Grace</td>\n",
       "      <td>GraceRaw@yahoo.com</td>\n",
       "      <td>GUEST_INVITE</td>\n",
       "      <td>1.358850e+09</td>\n",
       "      <td>0</td>\n",
       "      <td>0</td>\n",
       "      <td>193</td>\n",
       "      <td>5240.0</td>\n",
       "      <td>0</td>\n",
       "      <td>1</td>\n",
       "      <td>0</td>\n",
       "      <td>0</td>\n",
       "      <td>0</td>\n",
       "    </tr>\n",
       "  </tbody>\n",
       "</table>\n",
       "</div>"
      ],
      "text/plain": [
       "   object_id        creation_time               name  \\\n",
       "0          1  2014-04-22 03:53:30     Clausen August   \n",
       "1          2  2013-11-15 03:45:04      Poole Matthew   \n",
       "2          3  2013-03-19 23:14:52  Bottrill Mitchell   \n",
       "3          4  2013-05-21 08:09:28    Clausen Nicklas   \n",
       "4          5  2013-01-17 10:14:20          Raw Grace   \n",
       "\n",
       "                        email creation_source  last_session_creation_time  \\\n",
       "0    AugustCClausen@yahoo.com    GUEST_INVITE                1.398139e+09   \n",
       "1      MatthewPoole@gustr.com      ORG_INVITE                1.396238e+09   \n",
       "2  MitchellBottrill@gustr.com      ORG_INVITE                1.363735e+09   \n",
       "3   NicklasSClausen@yahoo.com    GUEST_INVITE                1.369210e+09   \n",
       "4          GraceRaw@yahoo.com    GUEST_INVITE                1.358850e+09   \n",
       "\n",
       "   opted_in_to_mailing_list  enabled_for_marketing_drip  org_id  \\\n",
       "0                         1                           0      11   \n",
       "1                         0                           0       1   \n",
       "2                         0                           0      94   \n",
       "3                         0                           0       1   \n",
       "4                         0                           0     193   \n",
       "\n",
       "   invited_by_user_id  adopted_user  GUEST_INVITE  ORG_INVITE  \\\n",
       "0             10803.0             0             1           0   \n",
       "1               316.0             1             0           1   \n",
       "2              1525.0             0             0           1   \n",
       "3              5151.0             0             1           0   \n",
       "4              5240.0             0             1           0   \n",
       "\n",
       "   PERSONAL_PROJECTS  SIGNUP  \n",
       "0                  0       0  \n",
       "1                  0       0  \n",
       "2                  0       0  \n",
       "3                  0       0  \n",
       "4                  0       0  "
      ]
     },
     "execution_count": 208,
     "metadata": {},
     "output_type": "execute_result"
    }
   ],
   "source": [
    "# Convert 'adopted_user' column to ints\n",
    "combined['adopted_user'] = combined['adopted_user'].astype(int)\n",
    "\n",
    "# Relabel 'SIGNUP_GOOGLE_AUTH' to 'SIGNUP' in creation_source column\n",
    "combined.loc[combined['creation_source'] == 'SIGNUP_GOOGLE_AUTH', 'creation_source'] = 'SIGNUP'\n",
    "# Create boolean column for creation_source\n",
    "dummies = pd.get_dummies(combined['creation_source'])\n",
    "# Join columns to user_data DataFrame\n",
    "combined = combined.join(dummies)\n",
    "# Save DataFrame\n",
    "combined.to_csv('combined_data.csv', index=False)\n",
    "\n",
    "combined.head()"
   ]
  },
  {
   "cell_type": "markdown",
   "metadata": {},
   "source": [
    "# <div class=\"alert alert-warning\"> Feature Selection/Building </div>"
   ]
  },
  {
   "cell_type": "markdown",
   "metadata": {},
   "source": [
    "## creation_source"
   ]
  },
  {
   "cell_type": "code",
   "execution_count": 209,
   "metadata": {},
   "outputs": [
    {
     "data": {
      "image/png": "[encoded data removed]",
      "text/plain": [
       "<Figure size 432x288 with 1 Axes>"
      ]
     },
     "metadata": {},
     "output_type": "display_data"
    },
    {
     "data": {
      "image/png": "[encoded data removed]",
      "text/plain": [
       "<Figure size 432x288 with 1 Axes>"
      ]
     },
     "metadata": {},
     "output_type": "display_data"
    }
   ],
   "source": [
    "combined['creation_source'].value_counts().plot.bar(rot=25)\n",
    "combined[['creation_source','adopted_user']].groupby('creation_source').mean().plot.bar(rot=45);"
   ]
  },
  {
   "cell_type": "markdown",
   "metadata": {},
   "source": [
    "## opted_in_to_mailing_list"
   ]
  },
  {
   "cell_type": "code",
   "execution_count": 210,
   "metadata": {},
   "outputs": [
    {
     "data": {
      "image/png": "[encoded data removed]",
      "text/plain": [
       "<Figure size 432x288 with 1 Axes>"
      ]
     },
     "metadata": {},
     "output_type": "display_data"
    },
    {
     "data": {
      "image/png": "[encoded data removed]",
      "text/plain": [
       "<Figure size 432x288 with 1 Axes>"
      ]
     },
     "metadata": {},
     "output_type": "display_data"
    }
   ],
   "source": [
    "combined['opted_in_to_mailing_list'].value_counts().plot.bar(rot=0)\n",
    "plt.title('Mailing List Counts')\n",
    "\n",
    "combined[['opted_in_to_mailing_list','adopted_user']].groupby('opted_in_to_mailing_list').mean().plot.bar(rot=0)\n",
    "plt.title('Adoption Rate by Mailing List');"
   ]
  },
  {
   "cell_type": "markdown",
   "metadata": {},
   "source": [
    "## enabled_for_marketing_drip"
   ]
  },
  {
   "cell_type": "code",
   "execution_count": 211,
   "metadata": {},
   "outputs": [
    {
     "data": {
      "image/png": "[encoded data removed]",
      "text/plain": [
       "<Figure size 432x288 with 1 Axes>"
      ]
     },
     "metadata": {},
     "output_type": "display_data"
    },
    {
     "data": {
      "image/png": "[encoded data removed]",
      "text/plain": [
       "<Figure size 432x288 with 1 Axes>"
      ]
     },
     "metadata": {},
     "output_type": "display_data"
    }
   ],
   "source": [
    "combined['enabled_for_marketing_drip'].value_counts().plot.bar(rot=0)\n",
    "plt.title('Marketing Drip Counts')\n",
    "\n",
    "combined[['enabled_for_marketing_drip','adopted_user']].groupby('enabled_for_marketing_drip').mean().plot.bar(rot=0)\n",
    "plt.title('Adoption Rate by Marketing Drip');"
   ]
  },
  {
   "cell_type": "markdown",
   "metadata": {},
   "source": [
    "## org_id"
   ]
  },
  {
   "cell_type": "code",
   "execution_count": 212,
   "metadata": {},
   "outputs": [
    {
     "data": {
      "image/png": "[encoded data removed]",
      "text/plain": [
       "<Figure size 432x288 with 1 Axes>"
      ]
     },
     "metadata": {},
     "output_type": "display_data"
    },
    {
     "data": {
      "image/png": "[encoded data removed]",
      "text/plain": [
       "<Figure size 432x288 with 1 Axes>"
      ]
     },
     "metadata": {},
     "output_type": "display_data"
    }
   ],
   "source": [
    "# Create feature column 'organization' to identify users that are part of an organization\n",
    "combined['organization']= (combined['org_id'] != 0).astype(int)\n",
    "\n",
    "combined['organization'].value_counts().plot.bar(rot=0)\n",
    "plt.title('Organization Counts')\n",
    "\n",
    "combined[['organization','adopted_user']].groupby('organization').mean().plot.bar(rot=0)\n",
    "plt.title('Adoption Rate by Organization');"
   ]
  },
  {
   "cell_type": "markdown",
   "metadata": {},
   "source": [
    "## invited_by_user_id"
   ]
  },
  {
   "cell_type": "code",
   "execution_count": 213,
   "metadata": {},
   "outputs": [
    {
     "data": {
      "image/png": "[encoded data removed]",
      "text/plain": [
       "<Figure size 432x288 with 1 Axes>"
      ]
     },
     "metadata": {},
     "output_type": "display_data"
    },
    {
     "data": {
      "image/png": "[encoded data removed]",
      "text/plain": [
       "<Figure size 432x288 with 1 Axes>"
      ]
     },
     "metadata": {},
     "output_type": "display_data"
    }
   ],
   "source": [
    "# Create feature column 'invited' to identify users that were invited\n",
    "combined['invited']= (combined['invited_by_user_id'] == 0).astype(int)\n",
    "\n",
    "combined['invited'].value_counts().plot.bar(rot=0)\n",
    "plt.title('Invited Counts')\n",
    "\n",
    "combined[['invited','adopted_user']].groupby('invited').mean().plot.bar(rot=0)\n",
    "plt.title('Adoption Rate by Organization');"
   ]
  },
  {
   "cell_type": "markdown",
   "metadata": {},
   "source": [
    "# <div class=\"alert alert-warning\"> Modeling </div>"
   ]
  },
  {
   "cell_type": "code",
   "execution_count": 214,
   "metadata": {},
   "outputs": [],
   "source": [
    "# Define unnecessary columns\n",
    "drop_list = ['object_id', 'creation_time', 'name', 'email',\n",
    "             'creation_source', 'last_session_creation_time',\n",
    "             'adopted_user']\n",
    "\n",
    "# Define feature columns\n",
    "features = combined.drop(drop_list, axis=1).columns\n",
    "\n",
    "# Split feature data and target data\n",
    "X = combined[features]\n",
    "y = combined['adopted_user']\n",
    "\n",
    "# Split data into training and test sets\n",
    "X_train, X_test, y_train, y_test = train_test_split(X, y, test_size=0.20, random_state=42)\n",
    "\n",
    "# Standardize the features\n",
    "temp = StandardScaler().fit(X_train)\n",
    "X_train_scaled = temp.transform(X_train)\n",
    "X_test_scaled = temp.transform(X_test)"
   ]
  },
  {
   "cell_type": "markdown",
   "metadata": {},
   "source": [
    "## Random Forest Tree Classifier"
   ]
  },
  {
   "cell_type": "code",
   "execution_count": 215,
   "metadata": {},
   "outputs": [
    {
     "name": "stdout",
     "output_type": "stream",
     "text": [
      "Training Accuracy: 0.9203740436384245\n",
      "Test Accuracy: 0.7654390934844193\n",
      "AUC Score is: 0.5485542973009956 \n"
     ]
    },
    {
     "data": {
      "image/png": "[encoded data removed]",
      "text/plain": [
       "<Figure size 432x288 with 1 Axes>"
      ]
     },
     "metadata": {},
     "output_type": "display_data"
    }
   ],
   "source": [
    "# Set up RandomForestClassifier and fit to data\n",
    "clf = RandomForestClassifier(n_estimators=101,random_state=42)\n",
    "clf.fit(X_train_scaled, y_train)\n",
    "\n",
    "# Make predictions\n",
    "predictions = clf.predict(X_train_scaled)\n",
    "\n",
    "# Print score\n",
    "print('Training Accuracy:', clf.score(X_train_scaled, y_train))\n",
    "print('Test Accuracy:', clf.score(X_test_scaled, y_test))\n",
    "\n",
    "# Compute predicted probabilities: y_pred_prob\n",
    "y_pred_prob = clf.predict_proba(X_test_scaled)[:,1]\n",
    "\n",
    "# Generate ROC curve values: fpr, tpr, thresholds\n",
    "fpr, tpr, thresholds = roc_curve(y_test, y_pred_prob)\n",
    "\n",
    "# Print AUC Score\n",
    "print(\"AUC Score is: {} \".format(roc_auc_score(y_test, y_pred_prob)))\n",
    "\n",
    "# Plot ROC curve\n",
    "plt.plot([0, 1], [0, 1], 'k--')\n",
    "plt.plot(fpr, tpr)\n",
    "plt.xlabel('False Positive Rate')\n",
    "plt.ylabel('True Positive Rate')\n",
    "plt.title('ROC Curve')\n",
    "plt.savefig('images/roc_curve');"
   ]
  },
  {
   "cell_type": "code",
   "execution_count": 216,
   "metadata": {},
   "outputs": [
    {
     "name": "stdout",
     "output_type": "stream",
     "text": [
      "Confusion Matrix: \n",
      "[[1303  124]\n",
      " [ 290   48]]\n",
      "\n",
      "True Pos Rate: 0.27906976744186046\n",
      "True Neg Rate: 0.8179535467671061\n"
     ]
    }
   ],
   "source": [
    "# Create confusion matrix\n",
    "conf_mat = confusion_matrix(y_test, clf.predict(X_test_scaled))\n",
    "# Print confusion matrix\n",
    "print('Confusion Matrix: \\n{}\\n'.format(conf_mat))\n",
    "\n",
    "# Isolate true/false pos/neg\n",
    "true_pos = conf_mat[1,1]\n",
    "false_pos = conf_mat[1,0]\n",
    "true_neg = conf_mat[0,0]\n",
    "false_neg = conf_mat[0,1]\n",
    "\n",
    "# Calculate rates\n",
    "true_pos_rate = true_pos/(true_pos+false_neg)\n",
    "true_neg_rate = true_neg/(true_neg+false_pos)\n",
    "# Print rates\n",
    "print('True Pos Rate: {}'.format(true_pos_rate))\n",
    "print('True Neg Rate: {}'.format(true_neg_rate))"
   ]
  },
  {
   "cell_type": "code",
   "execution_count": 233,
   "metadata": {},
   "outputs": [
    {
     "data": {
      "text/html": [
       "<div>\n",
       "<style scoped>\n",
       "    .dataframe tbody tr th:only-of-type {\n",
       "        vertical-align: middle;\n",
       "    }\n",
       "\n",
       "    .dataframe tbody tr th {\n",
       "        vertical-align: top;\n",
       "    }\n",
       "\n",
       "    .dataframe thead th {\n",
       "        text-align: right;\n",
       "    }\n",
       "</style>\n",
       "<table border=\"1\" class=\"dataframe\">\n",
       "  <thead>\n",
       "    <tr style=\"text-align: right;\">\n",
       "      <th></th>\n",
       "      <th>importance</th>\n",
       "      <th>labels</th>\n",
       "    </tr>\n",
       "  </thead>\n",
       "  <tbody>\n",
       "    <tr>\n",
       "      <th>2</th>\n",
       "      <td>0.606466</td>\n",
       "      <td>org_id</td>\n",
       "    </tr>\n",
       "    <tr>\n",
       "      <th>3</th>\n",
       "      <td>0.353562</td>\n",
       "      <td>invited_by_user_id</td>\n",
       "    </tr>\n",
       "    <tr>\n",
       "      <th>0</th>\n",
       "      <td>0.013744</td>\n",
       "      <td>opted_in_to_mailing_list</td>\n",
       "    </tr>\n",
       "    <tr>\n",
       "      <th>1</th>\n",
       "      <td>0.011480</td>\n",
       "      <td>enabled_for_marketing_drip</td>\n",
       "    </tr>\n",
       "    <tr>\n",
       "      <th>4</th>\n",
       "      <td>0.003805</td>\n",
       "      <td>GUEST_INVITE</td>\n",
       "    </tr>\n",
       "    <tr>\n",
       "      <th>5</th>\n",
       "      <td>0.003201</td>\n",
       "      <td>ORG_INVITE</td>\n",
       "    </tr>\n",
       "    <tr>\n",
       "      <th>8</th>\n",
       "      <td>0.002525</td>\n",
       "      <td>organization</td>\n",
       "    </tr>\n",
       "    <tr>\n",
       "      <th>7</th>\n",
       "      <td>0.002121</td>\n",
       "      <td>SIGNUP</td>\n",
       "    </tr>\n",
       "    <tr>\n",
       "      <th>6</th>\n",
       "      <td>0.001942</td>\n",
       "      <td>PERSONAL_PROJECTS</td>\n",
       "    </tr>\n",
       "    <tr>\n",
       "      <th>9</th>\n",
       "      <td>0.001155</td>\n",
       "      <td>invited</td>\n",
       "    </tr>\n",
       "  </tbody>\n",
       "</table>\n",
       "</div>"
      ],
      "text/plain": [
       "   importance                      labels\n",
       "2    0.606466                      org_id\n",
       "3    0.353562          invited_by_user_id\n",
       "0    0.013744    opted_in_to_mailing_list\n",
       "1    0.011480  enabled_for_marketing_drip\n",
       "4    0.003805                GUEST_INVITE\n",
       "5    0.003201                  ORG_INVITE\n",
       "8    0.002525                organization\n",
       "7    0.002121                      SIGNUP\n",
       "6    0.001942           PERSONAL_PROJECTS\n",
       "9    0.001155                     invited"
      ]
     },
     "metadata": {},
     "output_type": "display_data"
    },
    {
     "data": {
      "image/png": "[encoded data removed]",
      "text/plain": [
       "<Figure size 1440x1440 with 1 Axes>"
      ]
     },
     "metadata": {},
     "output_type": "display_data"
    }
   ],
   "source": [
    "# Create DataFrame to store feature importances of the model\n",
    "feature_importances = pd.DataFrame(clf.feature_importances_, columns=[\"importance\"])\n",
    "# Properly label each feature\n",
    "feature_importances['labels'] = features\n",
    "# Sort the features by importance in descending order\n",
    "feature_importances.sort_values(\"importance\", inplace=True, ascending=False)\n",
    "# Display the features\n",
    "display(feature_importances)\n",
    "\n",
    "# Create plot\n",
    "plt.figure(figsize=(20,20))\n",
    "# Set x_range\n",
    "x_range = np.arange(len(clf.feature_importances_))\n",
    "# Plot the feature importances\n",
    "feature_importance_chart = plt.barh(x_range , feature_importances['importance'], alpha=0.4, color='b', label='Main')\n",
    "# Set y_ticks\n",
    "plt.yticks(x_range, feature_importances['labels'])\n",
    "plt.title('Random Forest Classifer Feature Importances')\n",
    "\n",
    "# Save plot\n",
    "plt.savefig('images/rfc_feature_importance_chart');"
   ]
  },
  {
   "cell_type": "markdown",
   "metadata": {},
   "source": [
    "## Logistic Regression Classifier"
   ]
  },
  {
   "cell_type": "code",
   "execution_count": null,
   "metadata": {},
   "outputs": [],
   "source": [
    "# Set parameter grid\n",
    "param_grid = {'C':np.logspace(-5, 8, 15),\n",
    "              'penalty' : ['l1', 'l2']}\n",
    "rfc_cv = GridSearchCV(LogisticRegression(random_state=42), param_grid, cv=5)\n",
    "rfc_cv.fit(X, y)\n",
    "print('Best parameters:', rfc_cv.best_params_)\n",
    "print('Best score:', rfc_cv.best_score_)"
   ]
  },
  {
   "cell_type": "code",
   "execution_count": 234,
   "metadata": {},
   "outputs": [
    {
     "name": "stdout",
     "output_type": "stream",
     "text": [
      "Training Accuracy: 0.8209124397846416\n",
      "Test Accuracy: 0.8084985835694051\n",
      "AUC Score is: 0.6028236089284011 \n"
     ]
    },
    {
     "data": {
      "image/png": "[encoded data removed]",
      "text/plain": [
       "<Figure size 432x288 with 1 Axes>"
      ]
     },
     "metadata": {},
     "output_type": "display_data"
    }
   ],
   "source": [
    "# Set up LogisticRegression Classifier and fit to data\n",
    "logreg = LogisticRegression(random_state=42)\n",
    "logreg.fit(X_train_scaled, y_train)\n",
    "\n",
    "# Make predictions\n",
    "predictions = logreg.predict(X_train_scaled)\n",
    "\n",
    "# Print score\n",
    "print('Training Accuracy:', logreg.score(X_train_scaled, y_train))\n",
    "print('Test Accuracy:', logreg.score(X_test_scaled, y_test))\n",
    "\n",
    "# Compute predicted probabilities: y_pred_prob\n",
    "y_pred_prob = logreg.predict_proba(X_test_scaled)[:,1]\n",
    "\n",
    "# Generate ROC curve values: fpr, tpr, thresholds\n",
    "fpr, tpr, thresholds = roc_curve(y_test, y_pred_prob)\n",
    "\n",
    "# Print AUC Score\n",
    "print(\"AUC Score is: {} \".format(roc_auc_score(y_test, y_pred_prob)))\n",
    "\n",
    "# Plot ROC curve\n",
    "plt.plot([0, 1], [0, 1], 'k--')\n",
    "plt.plot(fpr, tpr)\n",
    "plt.xlabel('False Positive Rate')\n",
    "plt.ylabel('True Positive Rate')\n",
    "plt.title('ROC Curve')\n",
    "plt.savefig('images/logreg_roc_curve');"
   ]
  },
  {
   "cell_type": "code",
   "execution_count": 219,
   "metadata": {
    "scrolled": true
   },
   "outputs": [
    {
     "name": "stdout",
     "output_type": "stream",
     "text": [
      "Confusion Matrix: \n",
      "[[1303  124]\n",
      " [ 290   48]]\n",
      "\n",
      "True Pos Rate: 0.14201183431952663\n",
      "True Neg Rate: 0.913104414856342\n"
     ]
    }
   ],
   "source": [
    "# Create confusion matrix\n",
    "conf_mat = confusion_matrix(y_test, clf.predict(X_test_scaled))\n",
    "# Print confusion matrix\n",
    "print('Confusion Matrix: \\n{}\\n'.format(conf_mat))\n",
    "\n",
    "# Isolate true/false pos/neg\n",
    "true_pos = conf_mat[1,1]\n",
    "false_pos = conf_mat[0,1]\n",
    "true_neg = conf_mat[0,0]\n",
    "false_neg = conf_mat[1,0]\n",
    "\n",
    "# Calculate rates\n",
    "true_pos_rate = true_pos/(true_pos+false_neg)\n",
    "true_neg_rate = true_neg/(true_neg+false_pos)\n",
    "# Print rates\n",
    "print('True Pos Rate: {}'.format(true_pos_rate))\n",
    "print('True Neg Rate: {}'.format(true_neg_rate))"
   ]
  },
  {
   "cell_type": "code",
   "execution_count": 235,
   "metadata": {
    "scrolled": false
   },
   "outputs": [
    {
     "data": {
      "text/html": [
       "<div>\n",
       "<style scoped>\n",
       "    .dataframe tbody tr th:only-of-type {\n",
       "        vertical-align: middle;\n",
       "    }\n",
       "\n",
       "    .dataframe tbody tr th {\n",
       "        vertical-align: top;\n",
       "    }\n",
       "\n",
       "    .dataframe thead th {\n",
       "        text-align: right;\n",
       "    }\n",
       "</style>\n",
       "<table border=\"1\" class=\"dataframe\">\n",
       "  <thead>\n",
       "    <tr style=\"text-align: right;\">\n",
       "      <th></th>\n",
       "      <th>importance</th>\n",
       "      <th>labels</th>\n",
       "    </tr>\n",
       "  </thead>\n",
       "  <tbody>\n",
       "    <tr>\n",
       "      <th>8</th>\n",
       "      <td>0.240888</td>\n",
       "      <td>organization</td>\n",
       "    </tr>\n",
       "    <tr>\n",
       "      <th>2</th>\n",
       "      <td>0.143579</td>\n",
       "      <td>org_id</td>\n",
       "    </tr>\n",
       "    <tr>\n",
       "      <th>4</th>\n",
       "      <td>0.074220</td>\n",
       "      <td>GUEST_INVITE</td>\n",
       "    </tr>\n",
       "    <tr>\n",
       "      <th>6</th>\n",
       "      <td>0.057764</td>\n",
       "      <td>PERSONAL_PROJECTS</td>\n",
       "    </tr>\n",
       "    <tr>\n",
       "      <th>3</th>\n",
       "      <td>0.039734</td>\n",
       "      <td>invited_by_user_id</td>\n",
       "    </tr>\n",
       "    <tr>\n",
       "      <th>0</th>\n",
       "      <td>0.032080</td>\n",
       "      <td>opted_in_to_mailing_list</td>\n",
       "    </tr>\n",
       "    <tr>\n",
       "      <th>1</th>\n",
       "      <td>0.019208</td>\n",
       "      <td>enabled_for_marketing_drip</td>\n",
       "    </tr>\n",
       "    <tr>\n",
       "      <th>9</th>\n",
       "      <td>-0.017647</td>\n",
       "      <td>invited</td>\n",
       "    </tr>\n",
       "    <tr>\n",
       "      <th>5</th>\n",
       "      <td>-0.041294</td>\n",
       "      <td>ORG_INVITE</td>\n",
       "    </tr>\n",
       "    <tr>\n",
       "      <th>7</th>\n",
       "      <td>-0.052188</td>\n",
       "      <td>SIGNUP</td>\n",
       "    </tr>\n",
       "  </tbody>\n",
       "</table>\n",
       "</div>"
      ],
      "text/plain": [
       "   importance                      labels\n",
       "8    0.240888                organization\n",
       "2    0.143579                      org_id\n",
       "4    0.074220                GUEST_INVITE\n",
       "6    0.057764           PERSONAL_PROJECTS\n",
       "3    0.039734          invited_by_user_id\n",
       "0    0.032080    opted_in_to_mailing_list\n",
       "1    0.019208  enabled_for_marketing_drip\n",
       "9   -0.017647                     invited\n",
       "5   -0.041294                  ORG_INVITE\n",
       "7   -0.052188                      SIGNUP"
      ]
     },
     "metadata": {},
     "output_type": "display_data"
    },
    {
     "data": {
      "image/png": "[encoded data removed]",
      "text/plain": [
       "<Figure size 1440x1440 with 1 Axes>"
      ]
     },
     "metadata": {},
     "output_type": "display_data"
    }
   ],
   "source": [
    "# Create DataFrame to store feature importances of the model\n",
    "feature_importances = pd.DataFrame(logreg.coef_.flatten(), columns=[\"importance\"])\n",
    "# Properly label each feature\n",
    "feature_importances['labels'] = features\n",
    "# Sort the features by importance in descending order\n",
    "feature_importances.sort_values(\"importance\", inplace=True, ascending=False)\n",
    "# Display the features\n",
    "display(feature_importances)\n",
    "\n",
    "# Create plot\n",
    "plt.figure(figsize=(20,20))\n",
    "# Set x_range\n",
    "x_range = np.arange(len(clf.feature_importances_))\n",
    "# Plot the feature importances\n",
    "feature_importance_chart = plt.barh(x_range , feature_importances['importance'], alpha=0.4, color='b', label='Main')\n",
    "# Set y_ticks\n",
    "plt.yticks(x_range, feature_importances['labels'])\n",
    "plt.title('Logistic Regression Classifer Feature Importances')\n",
    "\n",
    "# Save plot\n",
    "plt.savefig('images/logreg_feature_importance_chart');"
   ]
  },
  {
   "cell_type": "markdown",
   "metadata": {},
   "source": [
    "# <div class=\"alert alert-warning\"> Conclusion </div>"
   ]
  },
  {
   "cell_type": "markdown",
   "metadata": {},
   "source": [
    "### Adopted Rates\n",
    "'Relax' defines an adopted user as one has logged into the product on at least three separate days in at least one seven-day period, so I accessed the user_engagement dataset to aggregate the logins in 7-day rolling periods.\n",
    "<br>\n",
    "I then identifed users who logged in at least 3 times in at least one 7-day rolling period, as an adopted user.\n",
    "</br>\n",
    "\n",
    "The adoption and churn rates are as follows\n",
    "<br> **Adoption rate:** 0.18157089425365522 </br>\n",
    "<br> **Churn rate:** 0.8184291057463448 </br>"
   ]
  },
  {
   "cell_type": "markdown",
   "metadata": {},
   "source": [
    "Of the two models I created, the Random Forest Classifier performed the best, with the following metrics:\n",
    "<br> **Training Accuracy:** 0.8209124397846416 </br>\n",
    "<br> **Test Accuracy:** 0.8084985835694051 </br>\n",
    "<br> **AUC Score is:** 0.6028236089284011  </br>\n",
    "<img src=\"images\\logreg_roc_curve.png\">\n",
    "<br> **Confusion Matrix:** </br> \n",
    "<br> [[1303  124] </br> \n",
    "<br>  [ 290   48]] </br> \n",
    "<br> <br> </br> </br>\n",
    "<br> **True Positive Rate:** 0.14201183431952663 </br>\n",
    "<br> **True Negative Rate:** 0.913104414856342 </br>\n",
    "<img src=\"images/logreg_feature_importance_chart.png\">"
   ]
  },
  {
   "cell_type": "markdown",
   "metadata": {},
   "source": [
    "The model's test accuracy is quite good, at 80.85%, but has a very low AUC score.\n",
    "<br>\n",
    "As you can see, it does a terrible job of predicticting adoption rates, which I believe is due to the fact that the dataset contains such a low amount of adopted users, but it does a great job of predicting churn rates.\n",
    "</br>\n",
    "<br>\n",
    "The model isn't perfect, but does an amazing job of predicting churn rates (**True Negative Rate:** 0.913104414856342).\n",
    "</br>\n",
    "\n",
    "I think the model can be improved if Relax increased their data collection process to include much more user engagement to improve the number of adopted users in the dataset."
   ]
  }
 ],
 "metadata": {
  "kernelspec": {
   "display_name": "Python [conda env:Anaconda3]",
   "language": "python",
   "name": "conda-env-Anaconda3-py"
  }
 },
 "nbformat": 4,
 "nbformat_minor": 2
}
